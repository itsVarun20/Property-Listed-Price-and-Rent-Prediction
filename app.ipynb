{
 "cells": [
  {
   "cell_type": "markdown",
   "id": "a90efa1c",
   "metadata": {},
   "source": [
    "# Backend Integration Using Flask"
   ]
  },
  {
   "cell_type": "markdown",
   "id": "6ee8f741",
   "metadata": {},
   "source": [
    " "
   ]
  },
  {
   "cell_type": "code",
   "execution_count": null,
   "id": "766ca74e",
   "metadata": {
    "scrolled": true
   },
   "outputs": [],
   "source": [
    "# Import neccessary libraries\n",
    "from flask import Flask, request, render_template\n",
    "import pandas as pd\n",
    "import joblib\n",
    "\n",
    "app = Flask(__name__)\n",
    "\n",
    "# Load models and scalers\n",
    "price_model = joblib.load('final_model_listed.pkl')\n",
    "rent_model = joblib.load('final_model_rent.pkl')\n",
    "scaler_listed = joblib.load('scaler_listed.pkl')\n",
    "scaler_rent = joblib.load('scaler_rent.pkl')\n",
    "\n",
    "@app.route('/')\n",
    "def home():\n",
    "    return render_template('index.html')\n",
    "\n",
    "@app.route('/predict', methods=['POST'])\n",
    "def predict():\n",
    "    try:\n",
    "        zipcode = request.form.get('zipcode')\n",
    "        bedrooms = request.form.get('bedrooms')\n",
    "        bathrooms = request.form.get('bathrooms')\n",
    "        area = request.form.get('area')\n",
    "        ppsq = request.form.get('ppsq')\n",
    "\n",
    "        bedrooms = float(bedrooms) if bedrooms else 3\n",
    "        bathrooms = float(bathrooms) if bathrooms else 2\n",
    "        area = float(area) if area else 2128\n",
    "        ppsq = float(ppsq) if ppsq else 223\n",
    "\n",
    "        input_data = pd.DataFrame([[zipcode, bedrooms, bathrooms, area, ppsq]], \n",
    "                                  columns=['Zipcode', 'Bedroom', 'Bathroom', 'Area', 'PPSq'])\n",
    "\n",
    "        # Scale input data\n",
    "        input_scaled_listed = scaler_listed.transform(input_data)\n",
    "        input_scaled_rent = scaler_rent.transform(input_data)\n",
    "\n",
    "        # Predictions\n",
    "        predicted_price = price_model.predict(input_scaled_listed)\n",
    "        predicted_rent = rent_model.predict(input_scaled_rent)\n",
    "\n",
    "        predicted_price = round(predicted_price[0])\n",
    "        predicted_rent = round(predicted_rent[0])\n",
    "\n",
    "        return render_template('index.html', \n",
    "                               price=predicted_price, \n",
    "                               rent=predicted_rent, \n",
    "                               zipcode=zipcode,\n",
    "                               bedrooms=bedrooms,\n",
    "                               bathrooms=bathrooms,\n",
    "                               area=area,\n",
    "                               ppsq=ppsq)\n",
    "    except Exception as e:\n",
    "        return str(e)\n",
    "\n",
    "if __name__ == '__main__':\n",
    "    app.run()"
   ]
  },
  {
   "cell_type": "code",
   "execution_count": null,
   "id": "abe7ce31",
   "metadata": {},
   "outputs": [],
   "source": []
  }
 ],
 "metadata": {
  "kernelspec": {
   "display_name": "Python 3 (ipykernel)",
   "language": "python",
   "name": "python3"
  },
  "language_info": {
   "codemirror_mode": {
    "name": "ipython",
    "version": 3
   },
   "file_extension": ".py",
   "mimetype": "text/x-python",
   "name": "python",
   "nbconvert_exporter": "python",
   "pygments_lexer": "ipython3",
   "version": "3.11.4"
  }
 },
 "nbformat": 4,
 "nbformat_minor": 5
}
