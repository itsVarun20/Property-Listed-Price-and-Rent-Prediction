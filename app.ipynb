{
 "cells": [
  {
   "cell_type": "code",
   "execution_count": 5,
   "id": "acd12ed1",
   "metadata": {},
   "outputs": [
    {
     "name": "stdout",
     "output_type": "stream",
     "text": [
      " * Serving Flask app '__main__'\n",
      " * Debug mode: off\n"
     ]
    },
    {
     "name": "stderr",
     "output_type": "stream",
     "text": [
      "WARNING: This is a development server. Do not use it in a production deployment. Use a production WSGI server instead.\n",
      " * Running on http://127.0.0.1:5000\n",
      "Press CTRL+C to quit\n",
      "127.0.0.1 - - [30/Jul/2024 17:10:13] \"GET / HTTP/1.1\" 200 -\n",
      "127.0.0.1 - - [30/Jul/2024 17:10:36] \"POST /predict HTTP/1.1\" 200 -\n",
      "127.0.0.1 - - [30/Jul/2024 17:10:48] \"GET / HTTP/1.1\" 200 -\n",
      "127.0.0.1 - - [30/Jul/2024 17:11:46] \"POST /predict HTTP/1.1\" 200 -\n",
      "127.0.0.1 - - [30/Jul/2024 17:12:15] \"GET / HTTP/1.1\" 200 -\n",
      "127.0.0.1 - - [30/Jul/2024 17:12:34] \"POST /predict HTTP/1.1\" 200 -\n",
      "127.0.0.1 - - [30/Jul/2024 17:12:51] \"GET / HTTP/1.1\" 200 -\n",
      "127.0.0.1 - - [30/Jul/2024 17:13:09] \"POST /predict HTTP/1.1\" 200 -\n",
      "127.0.0.1 - - [30/Jul/2024 17:13:31] \"GET / HTTP/1.1\" 200 -\n"
     ]
    }
   ],
   "source": [
    "from flask import Flask, request, render_template\n",
    "import pandas as pd\n",
    "import joblib\n",
    "\n",
    "app = Flask(__name__)\n",
    "\n",
    "# Load models and scalers\n",
    "price_model = joblib.load('final_model_listed.pkl')\n",
    "rent_model = joblib.load('final_model_rent.pkl')\n",
    "scaler_listed = joblib.load('scaler_listed.pkl')\n",
    "scaler_rent = joblib.load('scaler_rent.pkl')\n",
    "\n",
    "@app.route('/')\n",
    "def home():\n",
    "    return render_template('index.html')\n",
    "\n",
    "@app.route('/predict', methods=['POST'])\n",
    "def predict():\n",
    "    try:\n",
    "        zipcode = request.form.get('zipcode')\n",
    "        bedroom = float(request.form.get('bedroom', 0))  # Default to 0 if not provided\n",
    "        bathroom = float(request.form.get('bathroom', 0))  # Default to 0 if not provided\n",
    "        area = float(request.form.get('area', 0))  # Default to 0 if not provided\n",
    "        ppsq = float(request.form.get('ppsq', 0))  # Default to 0 if not provided\n",
    "\n",
    "        # Prepare the data\n",
    "        input_data = pd.DataFrame([[zipcode, bedroom, bathroom, area, ppsq]], \n",
    "                                  columns=['Zipcode', 'Bedroom', 'Bathroom', 'Area', 'PPSq'])\n",
    "\n",
    "        # Scale the input data\n",
    "        input_scaled_listed = scaler_listed.transform(input_data)\n",
    "        input_scaled_rent = scaler_rent.transform(input_data)\n",
    "\n",
    "        # Predictions\n",
    "        predicted_price = price_model.predict(input_scaled_listed)\n",
    "        predicted_rent = rent_model.predict(input_scaled_rent)\n",
    "\n",
    "        return render_template('result.html', price=predicted_price[0], rent=predicted_rent[0])\n",
    "    except Exception as e:\n",
    "        return str(e)\n",
    "\n",
    "if __name__ == '__main__':\n",
    "    app.run()\n"
   ]
  },
  {
   "cell_type": "code",
   "execution_count": 4,
   "id": "f058a2ac",
   "metadata": {},
   "outputs": [
    {
     "name": "stdout",
     "output_type": "stream",
     "text": [
      " * Serving Flask app '__main__'\n",
      " * Debug mode: off\n"
     ]
    },
    {
     "name": "stderr",
     "output_type": "stream",
     "text": [
      "WARNING: This is a development server. Do not use it in a production deployment. Use a production WSGI server instead.\n",
      " * Running on http://127.0.0.1:5000\n",
      "Press CTRL+C to quit\n",
      "127.0.0.1 - - [30/Jul/2024 17:03:25] \"GET / HTTP/1.1\" 200 -\n",
      "127.0.0.1 - - [30/Jul/2024 17:03:45] \"POST /predict HTTP/1.1\" 200 -\n"
     ]
    }
   ],
   "source": [
    "# from flask import Flask, request, render_template\n",
    "# import pandas as pd\n",
    "# import joblib\n",
    "\n",
    "# app = Flask(__name__)\n",
    "\n",
    "# # Load models and scalers\n",
    "# price_model = joblib.load('final_model_listed.pkl')\n",
    "# rent_model = joblib.load('final_model_rent.pkl')\n",
    "# scaler_listed = joblib.load('scaler_listed.pkl')\n",
    "# scaler_rent = joblib.load('scaler_rent.pkl')\n",
    "\n",
    "# @app.route('/')\n",
    "# def home():\n",
    "#     return render_template('index.html')\n",
    "\n",
    "# @app.route('/predict', methods=['POST'])\n",
    "# def predict():\n",
    "#     try:\n",
    "#         # Collect input data from the form\n",
    "#         zipcode = request.form.get('zipcode')\n",
    "#         bedroom = float(request.form.get('bedroom', 0))\n",
    "#         bathroom = float(request.form.get('bathroom', 0))\n",
    "#         area = float(request.form.get('area', 0))\n",
    "#         ppsq = float(request.form.get('ppsq', 0))\n",
    "\n",
    "#         # Prepare the data for initial prediction\n",
    "#         input_data = pd.DataFrame([[zipcode, bedroom, bathroom, area, ppsq]], \n",
    "#                                   columns=['Zipcode', 'Bedroom', 'Bathroom', 'Area', 'PPSq'])\n",
    "\n",
    "#         # Initial scaling and prediction\n",
    "#         input_scaled = scaler_listed.transform(input_data)\n",
    "#         initial_listed_price = price_model.predict(input_scaled)[0]\n",
    "\n",
    "#         input_scaled = scaler_rent.transform(input_data)\n",
    "#         initial_rent_estimate = rent_model.predict(input_scaled)[0]\n",
    "\n",
    "#         # Create a refined input set with the initial predictions as new features\n",
    "#         input_data['RentEstimate'] = initial_rent_estimate\n",
    "#         input_data['ListedPrice'] = initial_listed_price\n",
    "\n",
    "#         # Scale the refined input data for final prediction\n",
    "#         input_scaled_listed = scaler_listed.transform(input_data)\n",
    "#         input_scaled_rent = scaler_rent.transform(input_data)\n",
    "\n",
    "#         # Final predictions using refined inputs\n",
    "#         final_listed_price = price_model.predict(input_scaled_listed)[0]\n",
    "#         final_rent_estimate = rent_model.predict(input_scaled_rent)[0]\n",
    "\n",
    "#         return render_template('result.html', price=final_listed_price, rent=final_rent_estimate)\n",
    "#     except Exception as e:\n",
    "#         return str(e)\n",
    "\n",
    "# if __name__ == '__main__':\n",
    "#     app.run(debug=True)\n"
   ]
  },
  {
   "cell_type": "code",
   "execution_count": null,
   "id": "abe7ce31",
   "metadata": {},
   "outputs": [],
   "source": []
  }
 ],
 "metadata": {
  "kernelspec": {
   "display_name": "Python 3 (ipykernel)",
   "language": "python",
   "name": "python3"
  },
  "language_info": {
   "codemirror_mode": {
    "name": "ipython",
    "version": 3
   },
   "file_extension": ".py",
   "mimetype": "text/x-python",
   "name": "python",
   "nbconvert_exporter": "python",
   "pygments_lexer": "ipython3",
   "version": "3.11.4"
  }
 },
 "nbformat": 4,
 "nbformat_minor": 5
}
